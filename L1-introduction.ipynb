{
 "cells": [
  {
   "cell_type": "markdown",
   "metadata": {
    "slideshow": {
     "slide_type": "slide"
    }
   },
   "source": [
    "# Oceanography with Python\n",
    "---\n",
    "\n",
    "\n",
    "<div style=\"text-align: right\"> Speaker: Lijo Abraham Joseph </div>\n",
    "<div style=\"text-align: right\"> SRF, INCOIS </div>"
   ]
  },
  {
   "cell_type": "markdown",
   "metadata": {
    "slideshow": {
     "slide_type": "slide"
    }
   },
   "source": [
    "## Goals:\n",
    "1. Introduce the Python ecosystem\n",
    "    * How do I run a .py script?\n",
    "    * Where do I enter python commands?\n",
    "    * What is this Python 2 and Python 3?\n",
    "    * wait!, there is something called Anaconda?\n",
    "    * JupyterLab, Jupyter Notebooks and reproducible research"
   ]
  },
  {
   "cell_type": "markdown",
   "metadata": {
    "slideshow": {
     "slide_type": "subslide"
    }
   },
   "source": [
    "2. Why should I use Python?\n",
    "    * Is Python as easy as Ferret?\n",
    "    * Is Python as fast as Fortran?\n",
    "    * Does Python have as many toolboxes as in MATLAB?\n",
    "    * Can Python read and write netCDF files?\n",
    "    * Can Python plot geographic maps and coastlines?\n",
    "    * Can it handle larger than 1 GB files?"
   ]
  },
  {
   "cell_type": "markdown",
   "metadata": {
    "slideshow": {
     "slide_type": "subslide"
    }
   },
   "source": [
    "3. Possibilities with Python\n",
    "    * Exploratory Data Analysis\n",
    "    * Interactive plotting\n",
    "    * Parallel processing\n",
    "    * Cloud computing"
   ]
  },
  {
   "cell_type": "markdown",
   "metadata": {
    "slideshow": {
     "slide_type": "slide"
    }
   },
   "source": [
    "## 1. Python ecosystem"
   ]
  },
  {
   "cell_type": "markdown",
   "metadata": {
    "slideshow": {
     "slide_type": "subslide"
    }
   },
   "source": [
    "* **Running a .py script**\n",
    "    * Activate your environment, and run the script by\n",
    "        ```bash\n",
    "        python your_script.py\n",
    "        ```"
   ]
  },
  {
   "cell_type": "markdown",
   "metadata": {
    "slideshow": {
     "slide_type": "subslide"
    }
   },
   "source": [
    "* Three ways to **spawn a python interpreter**\n",
    "    1. old fashioned `python` console\n",
    "    2. rich and colorful `ipython` console\n",
    "    3. JupyterLab"
   ]
  },
  {
   "cell_type": "markdown",
   "metadata": {
    "slideshow": {
     "slide_type": "subslide"
    }
   },
   "source": [
    "* **Starting the console**\n",
    "    1. In terminal, type `python`\n",
    "    2. In terminal, type `ipython`\n",
    "    3. In terminal, type `jupyter lab`"
   ]
  },
  {
   "cell_type": "markdown",
   "metadata": {
    "slideshow": {
     "slide_type": "subslide"
    }
   },
   "source": [
    "* **IPython**\n",
    "    * Old python interface is boring and less interactive\n",
    "    * IPython supports tab completion, syntax highlighting, documentation lookup\n",
    "    * [cell magics](https://ipython.org/ipython-doc/3/interactive/magics.html) like `%run`, `%debug`, `%edit` and `%bookmark` makes interactive coding easier\n",
    "\n",
    "More info can be found [here](https://ipython.org/ipython-doc/3/interactive/tutorial.html)"
   ]
  },
  {
   "cell_type": "markdown",
   "metadata": {
    "slideshow": {
     "slide_type": "subslide"
    }
   },
   "source": [
    "### Demo time"
   ]
  },
  {
   "cell_type": "markdown",
   "metadata": {
    "slideshow": {
     "slide_type": "subslide"
    }
   },
   "source": [
    "* **JupyterLab and Jupyter Notebook**\n",
    "    * [JupyterLab](https://jupyterlab.readthedocs.io/en/stable/) is an interface where you can\n",
    "        * create notebooks\n",
    "        * manage files and folders \n",
    "        * display images\n",
    "        * start terminal\n",
    "        * display csv files and much more\n",
    "    * [Notebooks](https://jupyter-notebook.readthedocs.io/en/stable/notebook.html) holds your code, plots and discussion in a single space\n",
    "    * Notebook sharing promotes reproducible research\n",
    "    * Notebooks are future  of scientific communication, says Nature [article](https://www.nature.com/news/interactive-notebooks-sharing-the-code-1.16261)"
   ]
  },
  {
   "cell_type": "markdown",
   "metadata": {
    "slideshow": {
     "slide_type": "subslide"
    }
   },
   "source": [
    "* **Additional benefits of JupyterLab/Notebook**\n",
    "    * Start jupyter in a remote computer say HPC and connect in your local browser\n",
    "      ```bash\n",
    "      # in remote machine type:\n",
    "      jupyter lab --no-browser --ip=\"$HOSTNAME\" --port=8888\n",
    "      # in local machine type:\n",
    "      ssh -N -L 8888:localhost:8888 username@remoteIP\n",
    "      ```\n",
    "    * Open browser and type address as localhost:8888 and press enter\n",
    "    * No more waiting for the slow X-window forwarding to pop-up\n",
    "    * Easily access and view remote files"
   ]
  },
  {
   "cell_type": "markdown",
   "metadata": {
    "slideshow": {
     "slide_type": "subslide"
    }
   },
   "source": [
    "* Jupyter is not limited to Python. You can **run codes in**\n",
    "    * Julia\n",
    "    * Bash\n",
    "    * R\n",
    "    * pyferret and much more"
   ]
  },
  {
   "cell_type": "markdown",
   "metadata": {
    "slideshow": {
     "slide_type": "subslide"
    }
   },
   "source": [
    "### Demo time"
   ]
  },
  {
   "cell_type": "markdown",
   "metadata": {
    "slideshow": {
     "slide_type": "subslide"
    }
   },
   "source": [
    "* **Stay away from Python 2**\n",
    "    * Avoid Python 2. It is now in *legacy* mode\n",
    "    * Packages are dropping support for Python 2\n",
    "    * Most scientific packages have moved to Python 3\n",
    "    * Found an old code in Python 2? Use conda to create a Python 2 environment"
   ]
  },
  {
   "cell_type": "markdown",
   "metadata": {
    "slideshow": {
     "slide_type": "subslide"
    }
   },
   "source": [
    "* **Anaconda, miniconda and conda env**\n",
    "    * Anaconda and miniconda differs only in the number of pre-packed packages\n",
    "    * Anaconda comes with many common-use packages (> 500 MB)\n",
    "    * While miniconda is a lite version (<60 MB)\n",
    "    * Both installs `conda`, which is the package manager\n",
    "    * Conda helps you isolate environments, allowing you to update/install certain packages without affecting    \n",
    "      other working environment.\n"
   ]
  },
  {
   "cell_type": "markdown",
   "metadata": {
    "slideshow": {
     "slide_type": "subslide"
    }
   },
   "source": [
    "* **Further references**\n",
    "    * Rather than general python tutorials, look for scientific computing tutorials\n",
    "    * Some such python lessons covering basics are:\n",
    "        * https://geo-python.github.io/site/index.html\n",
    "        * https://scipy-lectures.org/\n",
    "        * https://fabienmaussion.info/scientific_programming/html/00-Introduction.html\n",
    "        * https://github.com/geoschem/GEOSChem-python-tutorial\n",
    "        * https://unidata.github.io/online-python-training/\n",
    "        * https://rabernat.github.io/research_computing/\n",
    "        * http://swcarpentry.github.io/python-novice-inflammation/\n",
    "        "
   ]
  },
  {
   "cell_type": "code",
   "execution_count": null,
   "metadata": {},
   "outputs": [],
   "source": []
  }
 ],
 "metadata": {
  "celltoolbar": "Slideshow",
  "kernelspec": {
   "display_name": "Python 3",
   "language": "python",
   "name": "python3"
  },
  "language_info": {
   "codemirror_mode": {
    "name": "ipython",
    "version": 3
   },
   "file_extension": ".py",
   "mimetype": "text/x-python",
   "name": "python",
   "nbconvert_exporter": "python",
   "pygments_lexer": "ipython3",
   "version": "3.7.3"
  }
 },
 "nbformat": 4,
 "nbformat_minor": 2
}
