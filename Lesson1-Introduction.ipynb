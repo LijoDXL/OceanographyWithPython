{
 "cells": [
  {
   "cell_type": "markdown",
   "metadata": {
    "slideshow": {
     "slide_type": "slide"
    }
   },
   "source": [
    "# Oceanography with Python\n",
    "---\n",
    "\n",
    "\n",
    "<div style=\"text-align: right\"> Speaker: Lijo Abraham Joseph </div>\n",
    "<div style=\"text-align: right\"> SRF, INCOIS </div>"
   ]
  },
  {
   "cell_type": "markdown",
   "metadata": {
    "slideshow": {
     "slide_type": "slide"
    }
   },
   "source": [
    "## Goals:\n",
    "* Introduce the Python ecosystem\n",
    "    * How do I run a .py script?\n",
    "    * Where do I enter python commands?\n",
    "    * What is this Python 2 and Python 3?\n",
    "    * wait!, there is something called Anaconda?\n",
    "    * JupyterLab, Jupyter Notebooks and reproducible research"
   ]
  },
  {
   "cell_type": "markdown",
   "metadata": {
    "slideshow": {
     "slide_type": "subslide"
    }
   },
   "source": [
    "* Why should I use Python?\n",
    "    * Is Python as easy as Ferret?\n",
    "    * Is Python as fast as Fortran?\n",
    "    * Does Python have as many toolboxes as in MATLAB?\n",
    "    * Can Python read and write netCDF files?\n",
    "    * Can Python plot geographic maps and coastlines?\n",
    "    * Can it handle larger than 1 GB files?"
   ]
  },
  {
   "cell_type": "markdown",
   "metadata": {
    "slideshow": {
     "slide_type": "subslide"
    }
   },
   "source": [
    "* Possibilities with Python\n",
    "    * Exploratory Data Analysis\n",
    "    * Interactive plotting\n",
    "    * Parallel processing\n",
    "    * Cloud computing"
   ]
  },
  {
   "cell_type": "code",
   "execution_count": null,
   "metadata": {},
   "outputs": [],
   "source": []
  }
 ],
 "metadata": {
  "celltoolbar": "Slideshow",
  "kernelspec": {
   "display_name": "Python 3",
   "language": "python",
   "name": "python3"
  },
  "language_info": {
   "codemirror_mode": {
    "name": "ipython",
    "version": 3
   },
   "file_extension": ".py",
   "mimetype": "text/x-python",
   "name": "python",
   "nbconvert_exporter": "python",
   "pygments_lexer": "ipython3",
   "version": "3.7.3"
  }
 },
 "nbformat": 4,
 "nbformat_minor": 2
}
