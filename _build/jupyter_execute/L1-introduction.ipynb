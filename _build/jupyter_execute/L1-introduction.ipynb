{
 "cells": [
  {
   "cell_type": "markdown",
   "metadata": {
    "slideshow": {
     "slide_type": "subslide"
    }
   },
   "source": [
    "# Aim\n",
    "1. **Introduce the python ecosystem**\n",
    "    * How do I run a `.py` script?\n",
    "    * Where do I enter python commands?\n",
    "    * What is `Python 2` and `Python 3`?\n",
    "    * wait!, there is something called `Anaconda`?\n",
    "    * `JupyterLab`, `Jupyter Notebooks` and reproducible research\n",
    "\n",
    "2. **Why should I use python?**\n",
    "    * Is python as easy as `Ferret`?\n",
    "    * Is python as fast as `Fortran`?\n",
    "    * Does python have many toolboxes like in `MATLAB`?\n",
    "    * Can python read and write `netCDF` files?\n",
    "    * Can python plot geographic maps and coastlines?\n",
    "    * Can it handle larger than memory files (say >2 GB)?\n",
    "\n",
    "3. **Possibilities with python**\n",
    "    * Exploratory Data Analysis\n",
    "    * Interactive plotting\n",
    "    * Parallel processing\n",
    "    * Cloud computing\n",
    "---\n",
    "## Python ecosystem\n",
    "\n",
    "### Running a `.py` script\n",
    "   * Activate your environment, and run the script by\n",
    "     ```bash\n",
    "      python your_script.py\n",
    "      ```  \n",
    "### Three ways to spawn a python interpreter\n",
    "   * old fashioned `python` console\n",
    "   * rich and colorful `ipython` console\n",
    "   * `JupyterLab`\n",
    "#### Starting the console\n",
    "   * In terminal, type `python`\n",
    "   * In terminal, type `ipython`\n",
    "   * In terminal, type `jupyter lab`\n",
    "#### IPython\n",
    "   * Old python interface is boring and less interactive\n",
    "   * `IPython` supports tab completion, syntax highlighting, documentation lookup\n",
    "   * [cell magics](https://ipython.org/ipython-doc/3/interactive/magics.html) \n",
    "     like `%run`, `%debug`, `%edit` and `%bookmark` makes interactive coding easier\n",
    "```{note}\n",
    "More info can be found [here](https://ipython.org/ipython-doc/3/interactive/tutorial.html)\n",
    "```\n",
    "#### JupyterLab and Jupyter Notebook\n",
    "   * [JupyterLab](https://jupyterlab.readthedocs.io/en/stable/) is an interface where you can\n",
    "       * create notebooks\n",
    "       * manage files and folders \n",
    "       * display images\n",
    "       * start terminal\n",
    "       * display csv files and much more\n",
    "   * [Notebooks](https://jupyter-notebook.readthedocs.io/en/stable/notebook.html) \n",
    "      holds your code, plots and discussion in a single space\n",
    "   * Notebook sharing promotes reproducible research\n",
    "   * Notebooks are future  of scientific communication,\n",
    "     ([Nature article](https://www.nature.com/news/interactive-notebooks-sharing-the-code-1.16261))\n",
    "\n",
    "   * Jupyter is not limited to Python. You can run codes in\n",
    "       * `Julia`\n",
    "       * `Bash`\n",
    "       * `R`\n",
    "       * `Pyferret` and much more\n",
    "````{tip}\n",
    "**Additional benefits of `JupyterLab/Notebook`**\n",
    "* Start jupyter in a remote computer say HPC and connect in your local browser\n",
    "  ```bash\n",
    "   # in remote machine type:\n",
    "   jupyter lab --no-browser --ip=\"$HOSTNAME\" --port=8888\n",
    "   # in local machine type:\n",
    "   ssh -N -L 8888:localhost:8888 username@remoteIP\n",
    "   ```\n",
    "* Open browser and type address as `localhost:8888` and press `Enter`\n",
    "* No more waiting for the slow X-window forwarding to pop-up\n",
    "* Easily access and view remote files\n",
    "````"
   ]
  },
  {
   "cell_type": "markdown",
   "metadata": {
    "slideshow": {
     "slide_type": "subslide"
    }
   },
   "source": [
    "## Anaconda, miniconda and conda env\n",
    "   * `Anaconda` and `miniconda` differs only in the number of pre-packed packages\n",
    "   * `Anaconda` comes with many common-use packages (> 500 MB)\n",
    "   * While `miniconda` is a lite version (<60 MB)\n",
    "   * Both installs `conda`, which is the package manager\n",
    "   * `Conda` helps you isolate environments, allowing you to update/install certain packages without affecting    \n",
    "     other working environment.\n",
    "```{attention}\n",
    "* **Stay away from Python 2**\n",
    "   * Avoid Python 2. It is now in *legacy* mode\n",
    "   * Packages are dropping support for Python 2\n",
    "   * Most scientific packages have moved to Python 3\n",
    "   * Found an old code in Python 2? Use conda to create a Python 2 environment\n",
    "```\n",
    "## Further references\n",
    "   * Rather than general python tutorials, look for scientific computing tutorials\n",
    "   * Some such python lessons covering basics are:\n",
    "       * <https://geo-python.github.io/site/index.html>\n",
    "       * <https://scipy-lectures.org/>\n",
    "       * <https://fabienmaussion.info/scientific_programming/html/00-Introduction.html>\n",
    "       * <https://github.com/geoschem/GEOSChem-python-tutorial>\n",
    "       * <https://unidata.github.io/online-python-training/>\n",
    "       * <https://rabernat.github.io/research_computing/>\n",
    "       * <http://swcarpentry.github.io/python-novice-inflammation/>\n",
    "        "
   ]
  },
  {
   "cell_type": "code",
   "execution_count": null,
   "metadata": {},
   "outputs": [],
   "source": []
  }
 ],
 "metadata": {
  "celltoolbar": "Slideshow",
  "kernelspec": {
   "display_name": "Python 3",
   "language": "python",
   "name": "python3"
  },
  "language_info": {
   "codemirror_mode": {
    "name": "ipython",
    "version": 3
   },
   "file_extension": ".py",
   "mimetype": "text/x-python",
   "name": "python",
   "nbconvert_exporter": "python",
   "pygments_lexer": "ipython3",
   "version": "3.8.5"
  }
 },
 "nbformat": 4,
 "nbformat_minor": 4
}